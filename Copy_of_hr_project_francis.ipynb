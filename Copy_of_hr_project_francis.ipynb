{
  "nbformat": 4,
  "nbformat_minor": 0,
  "metadata": {
    "colab": {
      "name": "Copy of hr-project-francis.ipynb",
      "provenance": [],
      "collapsed_sections": [],
      "toc_visible": true,
      "authorship_tag": "ABX9TyM48QYao4Cw7wkfq8dvFj1m",
      "include_colab_link": true
    },
    "kernelspec": {
      "name": "python3",
      "display_name": "Python 3"
    },
    "language_info": {
      "name": "python"
    }
  },
  "cells": [
    {
      "cell_type": "markdown",
      "metadata": {
        "id": "view-in-github",
        "colab_type": "text"
      },
      "source": [
        "<a href=\"https://colab.research.google.com/github/fkivuti/hr-project-francis/blob/main/Copy_of_hr_project_francis.ipynb\" target=\"_parent\"><img src=\"https://colab.research.google.com/assets/colab-badge.svg\" alt=\"Open In Colab\"/></a>"
      ]
    },
    {
      "cell_type": "markdown",
      "metadata": {
        "id": "NnIRl76K84sQ"
      },
      "source": [
        "# Preriquisites\n"
      ]
    },
    {
      "cell_type": "markdown",
      "metadata": {
        "id": "QjESx9mszZ7D"
      },
      "source": [
        "We will work with Supervised Machine learning. We will be training our dataframe against the 'is_promoted' column.\n",
        "We will convert data in non numerical columns to numerical\n",
        "We will drop the employee_id column is this is not be of importance at this point. "
      ]
    },
    {
      "cell_type": "markdown",
      "metadata": {
        "id": "8TTR4kYTfgBM"
      },
      "source": [
        "The main goal is to use defined features in the dataset to train a model which will be used to predict if an employee will be promoted or not.\n",
        "The model will be successfull if its able to predict if an employee will be promoted (1) or not (0) "
      ]
    },
    {
      "cell_type": "code",
      "metadata": {
        "id": "_TmAzAU3IXUe"
      },
      "source": [
        "# Import numpy and pandas libraries\n",
        "import pandas as pd\n",
        "import numpy as np\n"
      ],
      "execution_count": 1,
      "outputs": []
    },
    {
      "cell_type": "markdown",
      "metadata": {
        "id": "9W3KyfKOC3o5"
      },
      "source": [
        "# Load the Hr dataset and grossary and preview /  view the records"
      ]
    },
    {
      "cell_type": "code",
      "metadata": {
        "colab": {
          "base_uri": "https://localhost:8080/",
          "height": 296
        },
        "id": "7mdE1fJAINda",
        "outputId": "e44640ea-2415-40d6-d48a-321cf7a9e80a"
      },
      "source": [
        "# load datafile and preview first few records\n",
        "hr_df = pd.read_csv('https://bit.ly/2ODZvLCHRDataset')\n",
        "hr_df.head()"
      ],
      "execution_count": 15,
      "outputs": [
        {
          "output_type": "execute_result",
          "data": {
            "text/html": [
              "<div>\n",
              "<style scoped>\n",
              "    .dataframe tbody tr th:only-of-type {\n",
              "        vertical-align: middle;\n",
              "    }\n",
              "\n",
              "    .dataframe tbody tr th {\n",
              "        vertical-align: top;\n",
              "    }\n",
              "\n",
              "    .dataframe thead th {\n",
              "        text-align: right;\n",
              "    }\n",
              "</style>\n",
              "<table border=\"1\" class=\"dataframe\">\n",
              "  <thead>\n",
              "    <tr style=\"text-align: right;\">\n",
              "      <th></th>\n",
              "      <th>employee_id</th>\n",
              "      <th>department</th>\n",
              "      <th>region</th>\n",
              "      <th>education</th>\n",
              "      <th>gender</th>\n",
              "      <th>recruitment_channel</th>\n",
              "      <th>no_of_trainings</th>\n",
              "      <th>age</th>\n",
              "      <th>previous_year_rating</th>\n",
              "      <th>length_of_service</th>\n",
              "      <th>KPIs_met &gt;80%</th>\n",
              "      <th>awards_won?</th>\n",
              "      <th>avg_training_score</th>\n",
              "      <th>is_promoted</th>\n",
              "    </tr>\n",
              "  </thead>\n",
              "  <tbody>\n",
              "    <tr>\n",
              "      <th>0</th>\n",
              "      <td>65438</td>\n",
              "      <td>Sales &amp; Marketing</td>\n",
              "      <td>region_7</td>\n",
              "      <td>Master's &amp; above</td>\n",
              "      <td>f</td>\n",
              "      <td>sourcing</td>\n",
              "      <td>1</td>\n",
              "      <td>35</td>\n",
              "      <td>5.0</td>\n",
              "      <td>8</td>\n",
              "      <td>1</td>\n",
              "      <td>0</td>\n",
              "      <td>49</td>\n",
              "      <td>0</td>\n",
              "    </tr>\n",
              "    <tr>\n",
              "      <th>1</th>\n",
              "      <td>65141</td>\n",
              "      <td>Operations</td>\n",
              "      <td>region_22</td>\n",
              "      <td>Bachelor's</td>\n",
              "      <td>m</td>\n",
              "      <td>other</td>\n",
              "      <td>1</td>\n",
              "      <td>30</td>\n",
              "      <td>5.0</td>\n",
              "      <td>4</td>\n",
              "      <td>0</td>\n",
              "      <td>0</td>\n",
              "      <td>60</td>\n",
              "      <td>0</td>\n",
              "    </tr>\n",
              "    <tr>\n",
              "      <th>2</th>\n",
              "      <td>7513</td>\n",
              "      <td>Sales &amp; Marketing</td>\n",
              "      <td>region_19</td>\n",
              "      <td>Bachelor's</td>\n",
              "      <td>m</td>\n",
              "      <td>sourcing</td>\n",
              "      <td>1</td>\n",
              "      <td>34</td>\n",
              "      <td>3.0</td>\n",
              "      <td>7</td>\n",
              "      <td>0</td>\n",
              "      <td>0</td>\n",
              "      <td>50</td>\n",
              "      <td>0</td>\n",
              "    </tr>\n",
              "    <tr>\n",
              "      <th>3</th>\n",
              "      <td>2542</td>\n",
              "      <td>Sales &amp; Marketing</td>\n",
              "      <td>region_23</td>\n",
              "      <td>Bachelor's</td>\n",
              "      <td>m</td>\n",
              "      <td>other</td>\n",
              "      <td>2</td>\n",
              "      <td>39</td>\n",
              "      <td>1.0</td>\n",
              "      <td>10</td>\n",
              "      <td>0</td>\n",
              "      <td>0</td>\n",
              "      <td>50</td>\n",
              "      <td>0</td>\n",
              "    </tr>\n",
              "    <tr>\n",
              "      <th>4</th>\n",
              "      <td>48945</td>\n",
              "      <td>Technology</td>\n",
              "      <td>region_26</td>\n",
              "      <td>Bachelor's</td>\n",
              "      <td>m</td>\n",
              "      <td>other</td>\n",
              "      <td>1</td>\n",
              "      <td>45</td>\n",
              "      <td>3.0</td>\n",
              "      <td>2</td>\n",
              "      <td>0</td>\n",
              "      <td>0</td>\n",
              "      <td>73</td>\n",
              "      <td>0</td>\n",
              "    </tr>\n",
              "  </tbody>\n",
              "</table>\n",
              "</div>"
            ],
            "text/plain": [
              "   employee_id         department  ... avg_training_score is_promoted\n",
              "0        65438  Sales & Marketing  ...                 49           0\n",
              "1        65141         Operations  ...                 60           0\n",
              "2         7513  Sales & Marketing  ...                 50           0\n",
              "3         2542  Sales & Marketing  ...                 50           0\n",
              "4        48945         Technology  ...                 73           0\n",
              "\n",
              "[5 rows x 14 columns]"
            ]
          },
          "metadata": {},
          "execution_count": 15
        }
      ]
    },
    {
      "cell_type": "code",
      "metadata": {
        "colab": {
          "base_uri": "https://localhost:8080/",
          "height": 457
        },
        "id": "CbXYZklaIcIG",
        "outputId": "e0327f02-4ab3-40f5-93a9-9b2049c6298f"
      },
      "source": [
        "# load glossary dataframe and view the records\n",
        "glossary_df = pd.read_csv('https://bit.ly/2Wz3sWcGlossary')\n",
        "glossary_df"
      ],
      "execution_count": null,
      "outputs": [
        {
          "output_type": "execute_result",
          "data": {
            "text/html": [
              "<div>\n",
              "<style scoped>\n",
              "    .dataframe tbody tr th:only-of-type {\n",
              "        vertical-align: middle;\n",
              "    }\n",
              "\n",
              "    .dataframe tbody tr th {\n",
              "        vertical-align: top;\n",
              "    }\n",
              "\n",
              "    .dataframe thead th {\n",
              "        text-align: right;\n",
              "    }\n",
              "</style>\n",
              "<table border=\"1\" class=\"dataframe\">\n",
              "  <thead>\n",
              "    <tr style=\"text-align: right;\">\n",
              "      <th></th>\n",
              "      <th>employee_id - Unique ID for employee</th>\n",
              "    </tr>\n",
              "  </thead>\n",
              "  <tbody>\n",
              "    <tr>\n",
              "      <th>0</th>\n",
              "      <td>department - Department of employee</td>\n",
              "    </tr>\n",
              "    <tr>\n",
              "      <th>1</th>\n",
              "      <td>region - Region of employment (unordered)</td>\n",
              "    </tr>\n",
              "    <tr>\n",
              "      <th>2</th>\n",
              "      <td>education - Education Level</td>\n",
              "    </tr>\n",
              "    <tr>\n",
              "      <th>3</th>\n",
              "      <td>gender - Gender of Employee</td>\n",
              "    </tr>\n",
              "    <tr>\n",
              "      <th>4</th>\n",
              "      <td>recruitment_channel - Channel of recruitment f...</td>\n",
              "    </tr>\n",
              "    <tr>\n",
              "      <th>5</th>\n",
              "      <td>nooftrainings - no of other trainings complete...</td>\n",
              "    </tr>\n",
              "    <tr>\n",
              "      <th>6</th>\n",
              "      <td>age - Age of Employee</td>\n",
              "    </tr>\n",
              "    <tr>\n",
              "      <th>7</th>\n",
              "      <td>previousyearrating - Employee Rating for the p...</td>\n",
              "    </tr>\n",
              "    <tr>\n",
              "      <th>8</th>\n",
              "      <td>lengthofservice - Length of service in years</td>\n",
              "    </tr>\n",
              "    <tr>\n",
              "      <th>9</th>\n",
              "      <td>KPIs_met &gt;80% - if Percent of KPIs(Key perform...</td>\n",
              "    </tr>\n",
              "    <tr>\n",
              "      <th>10</th>\n",
              "      <td>awards_won? - if awards won during previous ye...</td>\n",
              "    </tr>\n",
              "    <tr>\n",
              "      <th>11</th>\n",
              "      <td>avgtrainingscore - Average score in current tr...</td>\n",
              "    </tr>\n",
              "    <tr>\n",
              "      <th>12</th>\n",
              "      <td>is_promoted (Target) Recommended for promotion</td>\n",
              "    </tr>\n",
              "  </tbody>\n",
              "</table>\n",
              "</div>"
            ],
            "text/plain": [
              "                 employee_id - Unique ID for employee\n",
              "0                 department - Department of employee\n",
              "1           region - Region of employment (unordered)\n",
              "2                         education - Education Level\n",
              "3                         gender - Gender of Employee\n",
              "4   recruitment_channel - Channel of recruitment f...\n",
              "5   nooftrainings - no of other trainings complete...\n",
              "6                               age - Age of Employee\n",
              "7   previousyearrating - Employee Rating for the p...\n",
              "8        lengthofservice - Length of service in years\n",
              "9   KPIs_met >80% - if Percent of KPIs(Key perform...\n",
              "10  awards_won? - if awards won during previous ye...\n",
              "11  avgtrainingscore - Average score in current tr...\n",
              "12     is_promoted (Target) Recommended for promotion"
            ]
          },
          "metadata": {},
          "execution_count": 6
        }
      ]
    },
    {
      "cell_type": "code",
      "metadata": {
        "colab": {
          "base_uri": "https://localhost:8080/"
        },
        "id": "e64rKg5yQXIL",
        "outputId": "76144f90-5c88-4059-a626-e7a82e9b584a"
      },
      "source": [
        "# Select and preview unique departments/verticals\n",
        "hr_df.department.unique().tolist()"
      ],
      "execution_count": null,
      "outputs": [
        {
          "output_type": "execute_result",
          "data": {
            "text/plain": [
              "['Sales & Marketing',\n",
              " 'Operations',\n",
              " 'Technology',\n",
              " 'Analytics',\n",
              " 'R&D',\n",
              " 'Procurement',\n",
              " 'Finance',\n",
              " 'HR',\n",
              " 'Legal']"
            ]
          },
          "metadata": {},
          "execution_count": 12
        }
      ]
    },
    {
      "cell_type": "code",
      "metadata": {
        "colab": {
          "base_uri": "https://localhost:8080/"
        },
        "id": "SqnWKA8mUKsd",
        "outputId": "43fba8d9-b58e-40a5-ced4-6d2de9f04fa0"
      },
      "source": [
        "# Select and preview unique recommeded for promotion\n",
        "hr_df.is_promoted.unique().tolist()"
      ],
      "execution_count": 7,
      "outputs": [
        {
          "output_type": "execute_result",
          "data": {
            "text/plain": [
              "[0, 1]"
            ]
          },
          "metadata": {},
          "execution_count": 7
        }
      ]
    },
    {
      "cell_type": "code",
      "metadata": {
        "colab": {
          "base_uri": "https://localhost:8080/"
        },
        "id": "fu7JVvmAjgvg",
        "outputId": "72765cbd-e17b-4199-a25b-8228442ab79a"
      },
      "source": [
        "# Select and preview unique 'KPIs_met >80%' entries\n",
        "hr_df['KPIs_met >80%'].unique().tolist()"
      ],
      "execution_count": null,
      "outputs": [
        {
          "output_type": "execute_result",
          "data": {
            "text/plain": [
              "[1, 0]"
            ]
          },
          "metadata": {},
          "execution_count": 73
        }
      ]
    },
    {
      "cell_type": "code",
      "metadata": {
        "colab": {
          "base_uri": "https://localhost:8080/"
        },
        "id": "T3dKw_x0Zq7h",
        "outputId": "6678b929-156d-40a3-a1b0-b62793c4ab04"
      },
      "source": [
        "# check datatypes for the various columns\n",
        "hr_df.dtypes"
      ],
      "execution_count": 16,
      "outputs": [
        {
          "output_type": "execute_result",
          "data": {
            "text/plain": [
              "employee_id               int64\n",
              "department               object\n",
              "region                   object\n",
              "education                object\n",
              "gender                   object\n",
              "recruitment_channel      object\n",
              "no_of_trainings           int64\n",
              "age                       int64\n",
              "previous_year_rating    float64\n",
              "length_of_service         int64\n",
              "KPIs_met >80%             int64\n",
              "awards_won?               int64\n",
              "avg_training_score        int64\n",
              "is_promoted               int64\n",
              "dtype: object"
            ]
          },
          "metadata": {},
          "execution_count": 16
        }
      ]
    },
    {
      "cell_type": "code",
      "metadata": {
        "colab": {
          "base_uri": "https://localhost:8080/"
        },
        "id": "dK2tcJwTeSN3",
        "outputId": "f4110ae7-dd14-4b4b-b76e-f6e5ba2aafb3"
      },
      "source": [
        "# check if there are null observations in the dataset\n",
        "hr_df.isnull().any()"
      ],
      "execution_count": 17,
      "outputs": [
        {
          "output_type": "execute_result",
          "data": {
            "text/plain": [
              "employee_id             False\n",
              "department              False\n",
              "region                  False\n",
              "education                True\n",
              "gender                  False\n",
              "recruitment_channel     False\n",
              "no_of_trainings         False\n",
              "age                     False\n",
              "previous_year_rating     True\n",
              "length_of_service       False\n",
              "KPIs_met >80%           False\n",
              "awards_won?             False\n",
              "avg_training_score      False\n",
              "is_promoted             False\n",
              "dtype: bool"
            ]
          },
          "metadata": {},
          "execution_count": 17
        }
      ]
    },
    {
      "cell_type": "markdown",
      "metadata": {
        "id": "WFVmuRjjVRx2"
      },
      "source": [
        "# Cleaning our data"
      ]
    },
    {
      "cell_type": "code",
      "metadata": {
        "colab": {
          "base_uri": "https://localhost:8080/",
          "height": 86
        },
        "id": "_7mych5KfDBC",
        "outputId": "935e130f-7dc8-4e7c-9071-b7b108ad75d0"
      },
      "source": [
        "hr_df[hr_df.duplicated(['employee_id'])]"
      ],
      "execution_count": 3,
      "outputs": [
        {
          "output_type": "execute_result",
          "data": {
            "text/html": [
              "<div>\n",
              "<style scoped>\n",
              "    .dataframe tbody tr th:only-of-type {\n",
              "        vertical-align: middle;\n",
              "    }\n",
              "\n",
              "    .dataframe tbody tr th {\n",
              "        vertical-align: top;\n",
              "    }\n",
              "\n",
              "    .dataframe thead th {\n",
              "        text-align: right;\n",
              "    }\n",
              "</style>\n",
              "<table border=\"1\" class=\"dataframe\">\n",
              "  <thead>\n",
              "    <tr style=\"text-align: right;\">\n",
              "      <th></th>\n",
              "      <th>employee_id</th>\n",
              "      <th>department</th>\n",
              "      <th>region</th>\n",
              "      <th>education</th>\n",
              "      <th>gender</th>\n",
              "      <th>recruitment_channel</th>\n",
              "      <th>no_of_trainings</th>\n",
              "      <th>age</th>\n",
              "      <th>previous_year_rating</th>\n",
              "      <th>length_of_service</th>\n",
              "      <th>KPIs_met &gt;80%</th>\n",
              "      <th>awards_won?</th>\n",
              "      <th>avg_training_score</th>\n",
              "      <th>is_promoted</th>\n",
              "    </tr>\n",
              "  </thead>\n",
              "  <tbody>\n",
              "  </tbody>\n",
              "</table>\n",
              "</div>"
            ],
            "text/plain": [
              "Empty DataFrame\n",
              "Columns: [employee_id, department, region, education, gender, recruitment_channel, no_of_trainings, age, previous_year_rating, length_of_service, KPIs_met >80%, awards_won?, avg_training_score, is_promoted]\n",
              "Index: []"
            ]
          },
          "metadata": {},
          "execution_count": 3
        }
      ]
    },
    {
      "cell_type": "code",
      "metadata": {
        "colab": {
          "base_uri": "https://localhost:8080/"
        },
        "id": "z0cDuIspgFMj",
        "outputId": "d84d5dba-5ef2-44fc-8652-e4b4dfc28180"
      },
      "source": [
        "hr_df.shape"
      ],
      "execution_count": 10,
      "outputs": [
        {
          "output_type": "execute_result",
          "data": {
            "text/plain": [
              "(54808, 14)"
            ]
          },
          "metadata": {},
          "execution_count": 10
        }
      ]
    },
    {
      "cell_type": "code",
      "metadata": {
        "id": "_5qF4498gMN0"
      },
      "source": [
        "unique_df = hr_df.drop_duplicates(['employee_id'])"
      ],
      "execution_count": 19,
      "outputs": []
    },
    {
      "cell_type": "code",
      "metadata": {
        "colab": {
          "base_uri": "https://localhost:8080/"
        },
        "id": "ryBIT6xngfid",
        "outputId": "a626c20e-920f-4407-99af-b0283c87a819"
      },
      "source": [
        "unique_df.shape"
      ],
      "execution_count": null,
      "outputs": [
        {
          "output_type": "execute_result",
          "data": {
            "text/plain": [
              "(54808, 14)"
            ]
          },
          "metadata": {},
          "execution_count": 21
        }
      ]
    },
    {
      "cell_type": "code",
      "metadata": {
        "colab": {
          "base_uri": "https://localhost:8080/"
        },
        "id": "YUTWSOqRVwDY",
        "outputId": "59f392e7-1fae-42ad-c04c-ed5a3c74d3b7"
      },
      "source": [
        "# check if there is a column with null values\n",
        "hr_df.isnull().sum()"
      ],
      "execution_count": 18,
      "outputs": [
        {
          "output_type": "execute_result",
          "data": {
            "text/plain": [
              "employee_id                0\n",
              "department                 0\n",
              "region                     0\n",
              "education               2409\n",
              "gender                     0\n",
              "recruitment_channel        0\n",
              "no_of_trainings            0\n",
              "age                        0\n",
              "previous_year_rating    4124\n",
              "length_of_service          0\n",
              "KPIs_met >80%              0\n",
              "awards_won?                0\n",
              "avg_training_score         0\n",
              "is_promoted                0\n",
              "dtype: int64"
            ]
          },
          "metadata": {},
          "execution_count": 18
        }
      ]
    },
    {
      "cell_type": "code",
      "metadata": {
        "colab": {
          "base_uri": "https://localhost:8080/"
        },
        "id": "9JjG83S6TtTn",
        "outputId": "3fd09fed-94df-463d-ca32-c474eac347fa"
      },
      "source": [
        "# Instead of replacing null values in the previous year rating column with zero, we opt to delete these rows i.e. 4124 rows\n",
        "hr_df = hr_df.dropna(axis=0, subset=['previous_year_rating'])\n",
        "hr_df.isnull().sum()"
      ],
      "execution_count": 20,
      "outputs": [
        {
          "output_type": "execute_result",
          "data": {
            "text/plain": [
              "employee_id                0\n",
              "department                 0\n",
              "region                     0\n",
              "education               2024\n",
              "gender                     0\n",
              "recruitment_channel        0\n",
              "no_of_trainings            0\n",
              "age                        0\n",
              "previous_year_rating       0\n",
              "length_of_service          0\n",
              "KPIs_met >80%              0\n",
              "awards_won?                0\n",
              "avg_training_score         0\n",
              "is_promoted                0\n",
              "dtype: int64"
            ]
          },
          "metadata": {},
          "execution_count": 20
        }
      ]
    },
    {
      "cell_type": "code",
      "metadata": {
        "colab": {
          "base_uri": "https://localhost:8080/"
        },
        "id": "Z_jYpJWiV666",
        "outputId": "11057ab9-ee1a-47a2-cacb-5ac5bd7bd65c"
      },
      "source": [
        "# Instead of replacing null values in the education column with zero, we opt to delete these rows i.e. 4124 rows\n",
        "hr_df = hr_df.dropna(axis=0, subset=['education'])\n",
        "hr_df.isnull().sum()"
      ],
      "execution_count": 21,
      "outputs": [
        {
          "output_type": "execute_result",
          "data": {
            "text/plain": [
              "employee_id             0\n",
              "department              0\n",
              "region                  0\n",
              "education               0\n",
              "gender                  0\n",
              "recruitment_channel     0\n",
              "no_of_trainings         0\n",
              "age                     0\n",
              "previous_year_rating    0\n",
              "length_of_service       0\n",
              "KPIs_met >80%           0\n",
              "awards_won?             0\n",
              "avg_training_score      0\n",
              "is_promoted             0\n",
              "dtype: int64"
            ]
          },
          "metadata": {},
          "execution_count": 21
        }
      ]
    },
    {
      "cell_type": "code",
      "metadata": {
        "colab": {
          "base_uri": "https://localhost:8080/"
        },
        "id": "tu4a6vA1VKk1",
        "outputId": "f76ec45e-0672-43c1-c1b9-3397acefdba4"
      },
      "source": [
        "# check the shape of the dataframe\n",
        "hr_df.shape"
      ],
      "execution_count": 22,
      "outputs": [
        {
          "output_type": "execute_result",
          "data": {
            "text/plain": [
              "(48660, 14)"
            ]
          },
          "metadata": {},
          "execution_count": 22
        }
      ]
    },
    {
      "cell_type": "markdown",
      "metadata": {
        "id": "q-XGZD_Py2V3"
      },
      "source": [
        "# Non-numeric data conversion to numeric data"
      ]
    },
    {
      "cell_type": "code",
      "metadata": {
        "colab": {
          "base_uri": "https://localhost:8080/"
        },
        "id": "2QNyYpgpzNML",
        "outputId": "68b383e5-8e74-44e9-b4e1-16d28d7aed60"
      },
      "source": [
        "# Iterate through the columns in the dataframe and find unique elements for non numeric columns. We will take a set  of the column values and \n",
        "# thus the set within the index within the set will be the new numerical value or id of that non numerical observation.\n",
        "\n",
        "# create a function that gets the columns and interate through them\n",
        "\n",
        "def handle_non_numerical_data(hr_df):\n",
        "    columns = hr_df.columns.values\n",
        "    for column in columns:\n",
        "\n",
        "# Embed a function that converts the parameter value to the any value of that item (as Key) from the text_digit_val dictionary\n",
        "\n",
        "        text_digit_vals = {}\n",
        "        def convert_to_int(val):\n",
        "            return text_digit_vals[val]\n",
        "\n",
        "# During iteration through the columns, check and pick columns which are not int64 or float64 and then convert the column to list of its values\n",
        "        if hr_df[column].dtype != np.int64 and hr_df[column].dtype != np.float64:\n",
        "            column_contents = hr_df[column].values.tolist()\n",
        "\n",
        "# Take a set of the columns and extract the unique values only.            \n",
        "            unique_elements = set(column_contents)\n",
        "\n",
        "# Create a new dictionary key for each of the unique values found with avalye of a new number.\n",
        "            x = 0\n",
        "            for unique in unique_elements:\n",
        "                if unique not in text_digit_vals:\n",
        "                    text_digit_vals[unique] = x\n",
        "                    x+=1\n",
        "\n",
        "# Use the map function to perform mapping of the new values into the columns\n",
        "            hr_df[column] = list(map(convert_to_int, hr_df[column]))\n",
        "\n",
        "    return hr_df\n",
        "\n",
        "\n",
        "# Call our handle_non_numerical_data function and preview the newly converted data frame\n",
        "\n",
        "hr_df = handle_non_numerical_data(hr_df)\n",
        "print(hr_df.head())"
      ],
      "execution_count": 23,
      "outputs": [
        {
          "output_type": "stream",
          "name": "stdout",
          "text": [
            "   employee_id  department  ...  avg_training_score  is_promoted\n",
            "0        65438           5  ...                  49            0\n",
            "1        65141           3  ...                  60            0\n",
            "2         7513           5  ...                  50            0\n",
            "3         2542           5  ...                  50            0\n",
            "4        48945           7  ...                  73            0\n",
            "\n",
            "[5 rows x 14 columns]\n"
          ]
        }
      ]
    },
    {
      "cell_type": "markdown",
      "metadata": {
        "id": "0FfokiuddwaT"
      },
      "source": [
        "# Create a Random Forest Regression model for predicting if an employee with certain features will be promoted or not."
      ]
    },
    {
      "cell_type": "code",
      "metadata": {
        "colab": {
          "base_uri": "https://localhost:8080/"
        },
        "id": "vFCgb32lCxcl",
        "outputId": "f637e054-1a66-4713-d5ce-3e879595fc2e"
      },
      "source": [
        "# import RandomForestRegressor as follows\n",
        "from sklearn.ensemble import RandomForestRegressor\n",
        "\n",
        "# Defining features and target\n",
        "features =  hr_df.drop(['employee_id', 'is_promoted'], axis=1)\n",
        "target = hr_df['is_promoted']\n",
        "\n",
        "# Create a regressor object with random state set to Zero and n_estimators set to 3\n",
        "random_regressor = RandomForestRegressor(random_state = 42, n_estimators=3)\n",
        "\n",
        "# Train the model\n",
        "random_regressor.fit(features, target)\n",
        "\n",
        "# Define sample data that will be used to predict the 'is_promoted' outcome.\n",
        "\n",
        "features =  hr_df.drop(['employee_id', 'is_promoted'], axis=1)\n",
        "new_features = pd.DataFrame(\n",
        "    [\n",
        "        [4, 12, 3 , 0, 1, 2, 50, 4.0, 11, 1, 0, 65],\n",
        "        [3, 6, 1 , 1, 1, 2, 27, 0, 6, 1, 0, 30],\n",
        "    ],\n",
        "    columns=features.columns\n",
        ")\n",
        "\n",
        "# Predict if this employee will be promoted\n",
        "\n",
        "is_promoted = random_regressor.predict(new_features)  \n",
        "print(is_promoted)\n",
        "\n",
        "# check model's accuracy level\n",
        "accuracy_score = random_regressor.score(features, target)\n",
        "print(accuracy_score)\n",
        "\n",
        "\n"
      ],
      "execution_count": 24,
      "outputs": [
        {
          "output_type": "stream",
          "name": "stdout",
          "text": [
            "[1. 0.]\n",
            "0.7758776305347055\n"
          ]
        }
      ]
    },
    {
      "cell_type": "code",
      "metadata": {
        "colab": {
          "base_uri": "https://localhost:8080/",
          "height": 129
        },
        "id": "ulBUEb3cNoD5",
        "outputId": "c9c21b49-52d5-4cf4-e1db-2bed461d0c88"
      },
      "source": [
        "# Preview the new entries observations under the features\n",
        "new_features"
      ],
      "execution_count": 25,
      "outputs": [
        {
          "output_type": "execute_result",
          "data": {
            "text/html": [
              "<div>\n",
              "<style scoped>\n",
              "    .dataframe tbody tr th:only-of-type {\n",
              "        vertical-align: middle;\n",
              "    }\n",
              "\n",
              "    .dataframe tbody tr th {\n",
              "        vertical-align: top;\n",
              "    }\n",
              "\n",
              "    .dataframe thead th {\n",
              "        text-align: right;\n",
              "    }\n",
              "</style>\n",
              "<table border=\"1\" class=\"dataframe\">\n",
              "  <thead>\n",
              "    <tr style=\"text-align: right;\">\n",
              "      <th></th>\n",
              "      <th>department</th>\n",
              "      <th>region</th>\n",
              "      <th>education</th>\n",
              "      <th>gender</th>\n",
              "      <th>recruitment_channel</th>\n",
              "      <th>no_of_trainings</th>\n",
              "      <th>age</th>\n",
              "      <th>previous_year_rating</th>\n",
              "      <th>length_of_service</th>\n",
              "      <th>KPIs_met &gt;80%</th>\n",
              "      <th>awards_won?</th>\n",
              "      <th>avg_training_score</th>\n",
              "    </tr>\n",
              "  </thead>\n",
              "  <tbody>\n",
              "    <tr>\n",
              "      <th>0</th>\n",
              "      <td>4</td>\n",
              "      <td>12</td>\n",
              "      <td>3</td>\n",
              "      <td>0</td>\n",
              "      <td>1</td>\n",
              "      <td>2</td>\n",
              "      <td>50</td>\n",
              "      <td>4.0</td>\n",
              "      <td>11</td>\n",
              "      <td>1</td>\n",
              "      <td>0</td>\n",
              "      <td>65</td>\n",
              "    </tr>\n",
              "    <tr>\n",
              "      <th>1</th>\n",
              "      <td>3</td>\n",
              "      <td>6</td>\n",
              "      <td>1</td>\n",
              "      <td>1</td>\n",
              "      <td>1</td>\n",
              "      <td>2</td>\n",
              "      <td>27</td>\n",
              "      <td>0.0</td>\n",
              "      <td>6</td>\n",
              "      <td>1</td>\n",
              "      <td>0</td>\n",
              "      <td>30</td>\n",
              "    </tr>\n",
              "  </tbody>\n",
              "</table>\n",
              "</div>"
            ],
            "text/plain": [
              "   department  region  ...  awards_won?  avg_training_score\n",
              "0           4      12  ...            0                  65\n",
              "1           3       6  ...            0                  30\n",
              "\n",
              "[2 rows x 12 columns]"
            ]
          },
          "metadata": {},
          "execution_count": 25
        }
      ]
    },
    {
      "cell_type": "markdown",
      "metadata": {
        "id": "8pHd2aKzk3Px"
      },
      "source": [
        "# Findings and Conclusion"
      ]
    },
    {
      "cell_type": "markdown",
      "metadata": {
        "id": "tJQaLTB6hCk6"
      },
      "source": [
        "Findings:\n",
        "Employee with features in the first row will be promoted while the employee with features matching the second row will not be promoted. \n",
        "Our model has a prediction has a 77% accuracy when making predictions"
      ]
    }
  ]
}